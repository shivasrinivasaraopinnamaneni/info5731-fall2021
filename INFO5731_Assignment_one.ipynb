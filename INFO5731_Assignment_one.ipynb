{
  "nbformat": 4,
  "nbformat_minor": 0,
  "metadata": {
    "colab": {
      "name": "INFO5731_Assignment_One.ipynb",
      "provenance": [],
      "collapsed_sections": [],
      "include_colab_link": true
    },
    "kernelspec": {
      "display_name": "Python 3",
      "language": "python",
      "name": "python3"
    },
    "language_info": {
      "codemirror_mode": {
        "name": "ipython",
        "version": 3
      },
      "file_extension": ".py",
      "mimetype": "text/x-python",
      "name": "python",
      "nbconvert_exporter": "python",
      "pygments_lexer": "ipython3",
      "version": "3.8.5"
    }
  },
  "cells": [
    {
      "cell_type": "markdown",
      "metadata": {
        "id": "view-in-github",
        "colab_type": "text"
      },
      "source": [
        "<a href=\"https://colab.research.google.com/github/shivasrinivasaraopinnamaneni/info5731-fall2021/blob/main/INFO5731_Assignment_one.ipynb\" target=\"_parent\"><img src=\"https://colab.research.google.com/assets/colab-badge.svg\" alt=\"Open In Colab\"/></a>"
      ]
    },
    {
      "cell_type": "code",
      "metadata": {
        "id": "5Rs9G7klQL-k"
      },
      "source": [
        ""
      ],
      "execution_count": null,
      "outputs": []
    },
    {
      "cell_type": "markdown",
      "metadata": {
        "id": "view-in-github"
      },
      "source": [
        "<a href=\"https://colab.research.google.com/github/unt-iialab/INFO5731_Spring2020/blob/master/Assignments/INFO5731_Assignment_One.ipynb\" target=\"_parent\"><img src=\"https://colab.research.google.com/assets/colab-badge.svg\" alt=\"Open In Colab\"/></a>"
      ]
    },
    {
      "cell_type": "markdown",
      "metadata": {
        "id": "Ryk8D1Q4Wsrp"
      },
      "source": [
        "# **INFO5731 Assignment One**"
      ]
    },
    {
      "cell_type": "markdown",
      "metadata": {
        "id": "90_NR8c5XGWc"
      },
      "source": [
        "# Question 1\n",
        "\n",
        "(20 points). Write a Python program to generate 12 random numbers between 1 and 100. Sort the list of numbers in ascending order and print it out. Sort the list of numbers in descending order and print it out. Calculate the average for the group and print it out."
      ]
    },
    {
      "cell_type": "code",
      "metadata": {
        "id": "5QX6bJjGWXY9",
        "colab": {
          "base_uri": "https://localhost:8080/"
        },
        "outputId": "f874288d-9614-431a-b06e-1ab689c2fa94"
      },
      "source": [
        "# Your code here\n",
        "import random\n",
        "rdm_nos = random.sample(range(1,100),12)\n",
        "print('generate the 12 random numbers btw 1 and 100 : ' + str(rdm_nos))\n",
        "print(' ')\n",
        "rdm_nos.sort()\n",
        "print(\"sort the numbers in ascending order :\" + str(rdm_nos))\n",
        "print(\" \")\n",
        "rdm_nos.sort(reverse = True)\n",
        "print(\"sort the nos in descending order :\" + str(rdm_nos))\n",
        "print(\" \")\n",
        "def Average(rdm_nos):\n",
        "    return sum(rdm_nos) / len(rdm_nos)\n",
        "average = Average(rdm_nos)\n",
        "print(\"Average of all the rdm nos generated = \", round(average, 12))"
      ],
      "execution_count": null,
      "outputs": [
        {
          "output_type": "stream",
          "name": "stdout",
          "text": [
            "generate the 12 random numbers btw 1 and 100 : [74, 98, 15, 49, 55, 48, 41, 68, 51, 21, 70, 83]\n",
            " \n",
            "sort the numbers in ascending order :[15, 21, 41, 48, 49, 51, 55, 68, 70, 74, 83, 98]\n",
            " \n",
            "sort the nos in descending order :[98, 83, 74, 70, 68, 55, 51, 49, 48, 41, 21, 15]\n",
            " \n",
            "Average of all the rdm nos generated =  56.083333333333\n"
          ]
        }
      ]
    },
    {
      "cell_type": "markdown",
      "metadata": {
        "id": "1F_PZdH9Sh49"
      },
      "source": [
        "# Question 2\n",
        "(25 points). Write a program that will do the following string formatting tasks:\n",
        "\n",
        "(1) Ask the user to enter two sentences.\n",
        "\n",
        "(2) Make each sentence into a list. Each element in the list should correspond to a word in the sentence. For example, if the sentence is \"Alas! Am I alive? This is my first python program\", the program should print out ['Alas, '!', 'Am', 'I', 'alive, '?', 'This', 'is', 'my', 'first', 'python', 'program'].\n",
        "\n",
        "(3) Compare the two sentences. Print out a list of words that occur in both sentences.\n",
        "\n",
        "(4) Remove any punctuation from the sentence and print it back out. It should remove at least the following characters, but it can remove more: period(“.”), comma (“,”), semicolon (“;”), and colon (“:”)\n",
        "\n",
        "(5) Count the number of vowels in the sentences. Print out each vowel and the number of times it appears in the sentences, such as: a:2, e:1, i:0, etc"
      ]
    },
    {
      "cell_type": "code",
      "metadata": {
        "id": "Y0oOSlsOS0cq",
        "colab": {
          "base_uri": "https://localhost:8080/"
        },
        "outputId": "4d4351b5-5fcd-49ec-fa66-8ceb6e0ead79"
      },
      "source": [
        "#Q2.1\n",
        "\n",
        "s1 = input(\"enter the s1 : \")\n",
        "print(s1)\n",
        "s2 = input(\"enter the s2 : \")\n",
        "print(s2)\n",
        "\n",
        "#Q2.2\n",
        "\n",
        "wlist_1 = s1.split()\n",
        "print('split first s into words list: ' + str(wlist_1))\n",
        "wlist_2 = s2.split()\n",
        "print('split second s into words list: ' + str(wlist_2))\n",
        "#Q2.3\n",
        "\n",
        "listofss = set(wlist_1)&set(wlist_2)\n",
        "print('list of w in both s: ' + str(listofss))\n",
        "\n",
        "#Q2.4\n",
        "\n",
        "punc = '''!()-[]{};:'\"\\,<>./?@#$%^&*_~'''\n",
        "no_punc_fors1 = \"\"\n",
        "for char in s1:\n",
        "      if char not in punc:\n",
        "            no_punc_fors1 = no_punc_fors1 + char\n",
        "print(\"first s without punc:\" + str(no_punc_fors1))\n",
        "\n",
        "no_punc_fors2 = \"\"\n",
        "for char in s2:\n",
        "      if char not in punc:\n",
        "            no_punc_fors2 = no_punc_fors2 + char\n",
        "print(\"second s without punc:\" + str(no_punc_fors2))\n",
        "\n",
        "#Q2.5\n",
        "\n",
        "def check_vowels(s1,v1):\n",
        "    final_1 = [each for each in s1 if each in v1]\n",
        "    print(\"count the no of v1 in the first s1:\" + str(len(final_1)))\n",
        "    s1 = s1.casefold()\n",
        "    count_1 = {}.fromkeys(v1,0)\n",
        "    for char in s1:\n",
        "        if char in count_1:\n",
        "           count_1[char] += 1\n",
        "    return count_1\n",
        "v1 = \"AaEeIiOoUu\"\n",
        "print(\"print each v and no of times in s1:\" + str(check_vowels(s1, v1)))\n",
        "\n",
        "def check_vowels(s2,v2):\n",
        "    final_2 = [each for each in s2 if each in v2]\n",
        "    print(\"count the no of v2 in the second s2:\" + str(len(final_2)))\n",
        "    s2 = s2.casefold()\n",
        "    count_2 = {}.fromkeys(v2,0)\n",
        "    for char in s2:\n",
        "        if char in count_2:\n",
        "           count_2[char] += 2\n",
        "    return count_2\n",
        "v2 = \"AaEeIiOoUu\"\n",
        "print(\"print each v and no of times s2:\" + str(check_vowels(s2,v2)))\n",
        "     \n",
        "\n"
      ],
      "execution_count": null,
      "outputs": [
        {
          "output_type": "stream",
          "name": "stdout",
          "text": [
            "enter the s1 : \"Alas! Am I alive? This is my first python program\"\n",
            "\"Alas! Am I alive? This is my first python program\"\n",
            "enter the s2 : \"Alas! Am I alive?\"\n",
            "\"Alas! Am I alive?\"\n",
            "split first s into words list: ['\"Alas!', 'Am', 'I', 'alive?', 'This', 'is', 'my', 'first', 'python', 'program\"']\n",
            "split second s into words list: ['\"Alas!', 'Am', 'I', 'alive?\"']\n",
            "list of w in both s: {'\"Alas!', 'Am', 'I'}\n",
            "first s without punc:Alas Am I alive This is my first python program\n",
            "second s without punc:Alas Am I alive\n",
            "count the no of v1 in the first s1:13\n",
            "print each v and no of times in s1:{'A': 0, 'a': 5, 'E': 0, 'e': 1, 'I': 0, 'i': 5, 'O': 0, 'o': 2, 'U': 0, 'u': 0}\n",
            "count the no of v2 in the second s2:7\n",
            "print each v and no of times s2:{'A': 0, 'a': 8, 'E': 0, 'e': 2, 'I': 0, 'i': 4, 'O': 0, 'o': 0, 'U': 0, 'u': 0}\n"
          ]
        }
      ]
    },
    {
      "cell_type": "markdown",
      "metadata": {
        "id": "CmFoI4jDS9nx"
      },
      "source": [
        "# Question 3 \n",
        "\n",
        "(15 points). The formula that describes the volume V of a sphere with radius r is the following:\n",
        "\n",
        "$ V=\\frac{4}{3}\\ast\\ \\pi\\ast\\ r^3 $\n",
        "\n",
        "Write a program to calculate the value of V when r is in the range of 1–10. Output the result in the following format:\n",
        "\n",
        "\tr\tV\n",
        "\t1\t…\n",
        "\t2\t…\n",
        "\t3\t…\n"
      ]
    },
    {
      "cell_type": "code",
      "metadata": {
        "id": "pEyqeioAT95b",
        "colab": {
          "base_uri": "https://localhost:8080/"
        },
        "outputId": "3ea3cdcb-10b6-4f43-f741-503180b73e90"
      },
      "source": [
        "# Your code here\n",
        "import pandas as p\n",
        "pi = 3.14\n",
        "vls_of_volms = []\n",
        "vls_of_rds = []\n",
        "for radius in range(1,11):\n",
        "    vls_of_rds.append(radius)\n",
        "    vls_of_sp = 4.0/3.0*pi*radius**3\n",
        "    vls_of_volms.append(vls_of_sp)\n",
        "cm1 = p.DataFrame(vls_of_rds,columns=['r'])\n",
        "cm2 = p.DataFrame(vls_of_volms,columns=['v'])\n",
        "table =p.concat([cm1,cm2],axis=1)\n",
        "print(table.to_string(index=False))"
      ],
      "execution_count": null,
      "outputs": [
        {
          "output_type": "stream",
          "name": "stdout",
          "text": [
            "  r            v\n",
            "  1     4.186667\n",
            "  2    33.493333\n",
            "  3   113.040000\n",
            "  4   267.946667\n",
            "  5   523.333333\n",
            "  6   904.320000\n",
            "  7  1436.026667\n",
            "  8  2143.573333\n",
            "  9  3052.080000\n",
            " 10  4186.666667\n"
          ]
        }
      ]
    },
    {
      "cell_type": "code",
      "metadata": {
        "id": "pMCr3l8tnu0j"
      },
      "source": [
        ""
      ],
      "execution_count": null,
      "outputs": []
    },
    {
      "cell_type": "markdown",
      "metadata": {
        "id": "z3tBE7E-Xn5X"
      },
      "source": [
        "# Question 4\n",
        "\n",
        "(40 points). In the field of Data Science, data is often formatted as a comma-delimited (CSV) file, where each line in a file corresponds to a field's value. Refer to Chapter 9 (p. 106) for more information on comma-delimited files. To answer this question, you will need to download the file [Assignment1_denton_housing.csv](https://github.com/unt-iialab/info5731-fall2021/blob/main/assignments/Assignment1_denton_housing.csv) included with this assignment. The file [Assignment1_denton_housing.csv](https://github.com/unt-iialab/info5731-fall2021/blob/main/assignments/Assignment1_denton_housing.csv) contains statistics about housing in the city of Denton from 2008 to 2014. Write a program to implement the following questions.\n",
        "\n",
        "(1) (10 pts) Calculate the difference in the number of Occupied Housing Units from year to year and print it. The difference must be calculated for the consecutive years such as 2008-2009, 2009-2010 etc. Finally, print the values in the ascending order.\n",
        "\n",
        "(2) (10 pts) For all the years, calculate the percentage of housing units which are vacant an occupied. Print the results in the following format:\n",
        "\n",
        "Year Vacant Housing Units Occupied Housing Units\n",
        "\n",
        "    2008  30%   70%                          \n",
        "\t2009 ----- -----\n",
        "\t2010 ----- -----\n",
        "    2011 ----- -----\n",
        "\t2012 ----- -----\n",
        "    2013 ----- -----\n",
        "\t2014 ----- -----\n",
        "  \n",
        "  \n",
        "\n",
        "(3) (10 pts) Calculate and print the valued and years in which the highest number of housing units were vacant and occupied. Print the results in the following format:  \n",
        "\n",
        "                              Year\tValue\n",
        "\tVacant Housing Units\t  -----   -----\n",
        "\tOccupied Housing Units\t-----   -----\n",
        "\n",
        "(4) (10 pts) Calculate the harmonic mean of the total housing units and print it out. You can find the information about harmonic mean here: https://ncalculators.com/statistics/harmonic-mean-calculator.htm"
      ]
    },
    {
      "cell_type": "code",
      "metadata": {
        "colab": {
          "base_uri": "https://localhost:8080/"
        },
        "id": "oL7dsxwXY-KM",
        "outputId": "c7d7ce3e-f9f7-4256-e973-08e3655d141b"
      },
      "source": [
        "#Q4.1\n",
        "\n",
        "import pandas as pd\n",
        "\n",
        "fileeurl =\"https://raw.githubusercontent.com/unt-iialab/info5731-fall2021/main/assignments/Assignment1_denton_housing.csv\" \n",
        "read_csv_file = pd.read_csv(\"https://raw.githubusercontent.com/unt-iialab/info5731-fall2021/main/assignments/Assignment1_denton_housing.csv\",sep=',')\n",
        "read_csv_f1 = read_csv_file[read_csv_file['title_field']=='Occupied Housing Units']\n",
        "sort_dyrs_in_the_f = read_csv_f1.sort_values('year')\n",
        "yearsatsorting = sort_dyrs_in_the_f['value'].diff().sort_values()\n",
        "print(' Difference in the number of Occupied Housing Units from year to year:')\n",
        "print(yearsatsorting.to_string(index=False))"
      ],
      "execution_count": 1,
      "outputs": [
        {
          "output_type": "stream",
          "name": "stdout",
          "text": [
            " Difference in the number of Occupied Housing Units from year to year:\n",
            " -795.0\n",
            " -303.0\n",
            " 1404.0\n",
            " 1565.0\n",
            " 2622.0\n",
            " 5091.0\n",
            "    NaN\n"
          ]
        }
      ]
    },
    {
      "cell_type": "code",
      "metadata": {
        "id": "5mE7VZGgsxfK"
      },
      "source": [
        ""
      ],
      "execution_count": null,
      "outputs": []
    },
    {
      "cell_type": "code",
      "metadata": {
        "colab": {
          "base_uri": "https://localhost:8080/"
        },
        "id": "KXEc0uu3_Hrb",
        "outputId": "9dcc7723-d212-4efe-d79b-0cd07599ac64"
      },
      "source": [
        "#Q4.2\n",
        "\n",
        "import pandas as p\n",
        "count_1 =0\n",
        "count_2 =0\n",
        "vls_of_vacant_houses = []\n",
        "vls_of_occupied_houses = []\n",
        "file_url = \"https://raw.githubusercontent.com/unt-iialab/info5731-fall2021/main/assignments/Assignment1_denton_housing.csv\"\n",
        "read_the_csv_file = p.read_csv(file_url)\n",
        "read_the_csv_file_1 = read_the_csv_file[(read_the_csv_file['title_field']=='Vacant Housing Units')].sort_values('year')['value'].tolist()\n",
        "read_the_csv_file_2 = read_the_csv_file[(read_the_csv_file['title_field']=='Occupied Housing Units')].sort_values('year')['value'].tolist()\n",
        "read_the_csv_file_3 = read_the_csv_file[(read_the_csv_file['title_field']=='Total Housing Units')].sort_values('year')\n",
        "for vacant in read_the_csv_file_3['value']:\n",
        "    percentage=(read_the_csv_file_1[count_1]/vacant)*100\n",
        "    count_1+=1\n",
        "    vls_of_vacant_houses.append(percentage)\n",
        "for occupied in read_the_csv_file_3['value']:\n",
        "    percentage=(read_the_csv_file_1[count_2]/occupied)*100\n",
        "    count_2+=1\n",
        "    vls_of_occupied_houses.append(percentage)   \n",
        "vacant =p.DataFrame(vls_of_vacant_houses,columns=['Vacant Housing Units'])\n",
        "occupied =p.DataFrame(vls_of_occupied_houses,columns=['Occupied Housing Units'])\n",
        "total =p.concat([vacant,occupied],axis=1)\n",
        "total =p.concat([read_the_csv_file_3['year'].reset_index(),total],axis=1)\n",
        "total =total[['year','Vacant Housing Units','Occupied Housing Units']]    \n",
        "print(total.to_string(index=False))"
      ],
      "execution_count": 9,
      "outputs": [
        {
          "output_type": "stream",
          "name": "stdout",
          "text": [
            " year  Vacant Housing Units  Occupied Housing Units\n",
            " 2008             10.882653               10.882653\n",
            " 2009              9.071116                9.071116\n",
            " 2010              8.142556                8.142556\n",
            " 2011              9.379522                9.379522\n",
            " 2012              6.677600                6.677600\n",
            " 2013              8.801788                8.801788\n",
            " 2014              5.730111                5.730111\n"
          ]
        }
      ]
    },
    {
      "cell_type": "code",
      "metadata": {
        "id": "zA9vTCoXyrdX",
        "colab": {
          "base_uri": "https://localhost:8080/"
        },
        "outputId": "afa83ea3-7d05-4731-f636-8cafc2712c5d"
      },
      "source": [
        "#Q4.3\n",
        "\n",
        "import pandas as pd\n",
        "file_url= \"https://raw.githubusercontent.com/unt-iialab/info5731-fall2021/main/assignments/Assignment1_denton_housing.csv\"\n",
        "df=pd.read_csv(file_url)\n",
        "df[df['title_field']=='Vacant Housing Units']\n",
        "\n",
        "Maximum_value_vacant=df.loc[df['title_field']=='Vacant Housing Units']\n",
        "Maximum_1 = Maximum_value_vacant[Maximum_value_vacant.value==Maximum_value_vacant.value.max()]\n",
        "\n",
        "Maximum_value_occupied =df.loc[df['title_field']=='Occupied Housing Units']\n",
        "Maximum_2 = Maximum_value_occupied[Maximum_value_occupied.value==Maximum_value_occupied.value.max()]\n",
        "\n",
        "df1=pd.concat([Maximum_1,Maximum_2])\n",
        "df1_final=df1[['title_field','year','value']]\n",
        "print(df1_final.to_string(index=False))"
      ],
      "execution_count": 10,
      "outputs": [
        {
          "output_type": "stream",
          "name": "stdout",
          "text": [
            "            title_field  year  value\n",
            "   Vacant Housing Units  2008   4483\n",
            " Occupied Housing Units  2014  46295\n"
          ]
        }
      ]
    },
    {
      "cell_type": "code",
      "metadata": {
        "colab": {
          "base_uri": "https://localhost:8080/"
        },
        "id": "4hk3ioMXD-uA",
        "outputId": "3cdee226-7130-4c78-c0c8-66452f771564"
      },
      "source": [
        "#Q4.4\n",
        "\n",
        "import pandas as p\n",
        "import numpy as n\n",
        "from scipy import stats\n",
        "file_url = \"https://raw.githubusercontent.com/unt-iialab/info5731-fall2021/main/assignments/Assignment1_denton_housing.csv\"\n",
        "read_the_csv_file = p.read_csv(file_url)\n",
        "read_the_csv_file=read_the_csv_file[read_the_csv_file['title_field']=='Total Housing Units']\n",
        "harmonic_mean=stats.hmean(read_the_csv_file['value'])\n",
        "print(f\"Hormonic Mean :  {harmonic_mean}\")"
      ],
      "execution_count": 6,
      "outputs": [
        {
          "output_type": "stream",
          "name": "stdout",
          "text": [
            "Hormonic Mean :  44398.28543969185\n"
          ]
        }
      ]
    }
  ]
}